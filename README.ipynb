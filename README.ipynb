{
 "cells": [
  {
   "cell_type": "markdown",
   "id": "1f225c55",
   "metadata": {},
   "source": [
    "# Tensorflow Implementation"
   ]
  },
  {
   "cell_type": "markdown",
   "id": "4c8912eb",
   "metadata": {},
   "source": [
    "**1. I prefer to do these in command palette rather than jupyter, because we can see the results.**  \n",
    "**2. It's [recommended](https://github.com/hunglc007/tensorflow-yolov4-tflite#traning-your-own-model) to train your custom detector on [darknet](https://github.com/AlexeyAB/darknet), rather than this implemntation, and then convert your weights and use this implemntation.**"
   ]
  },
  {
   "cell_type": "code",
   "execution_count": null,
   "id": "b8e7c476",
   "metadata": {},
   "outputs": [],
   "source": [
    "!git clone https://github.com/hunglc007/tensorflow-yolov4-tflite"
   ]
  },
  {
   "cell_type": "markdown",
   "id": "e80304c0",
   "metadata": {},
   "source": [
    "## Environment Setup"
   ]
  },
  {
   "cell_type": "markdown",
   "id": "6e61bd5d",
   "metadata": {},
   "source": [
    "#### Conda Environment"
   ]
  },
  {
   "cell_type": "code",
   "execution_count": null,
   "id": "9e5e4bb7",
   "metadata": {},
   "outputs": [],
   "source": [
    "# Creat\n",
    "\n",
    "# tf < 2.5 | 3.6 < python < 3.8\n",
    "# tf > 2.5 | python > 3.9\n",
    "# opencv 4.1.1.26 | python 3.7 <\n",
    "!conda create --name envname python=3.7\n",
    "\n",
    "# Activate\n",
    "!activate envname"
   ]
  },
  {
   "cell_type": "markdown",
   "id": "0ef55936",
   "metadata": {},
   "source": [
    "#### Requirements"
   ]
  },
  {
   "cell_type": "code",
   "execution_count": null,
   "id": "8e142ea4",
   "metadata": {},
   "outputs": [],
   "source": [
    "# tf > 2.5 both cpu and gpu use the same package\n",
    "\n",
    "# GPU\n",
    "!pip install -r requirements-gpu.txt\n",
    "\n",
    "# CPU\n",
    "!pip install -r requirements.txt"
   ]
  },
  {
   "cell_type": "markdown",
   "id": "c66b4019",
   "metadata": {},
   "source": [
    "#### Check"
   ]
  },
  {
   "cell_type": "code",
   "execution_count": null,
   "id": "a5097a6d",
   "metadata": {},
   "outputs": [],
   "source": [
    "!conda list # installed packages in current env\n",
    "!python --version"
   ]
  },
  {
   "cell_type": "markdown",
   "id": "1ff9c1d0",
   "metadata": {},
   "source": [
    "#### Set the environment as jupyter kernel"
   ]
  },
  {
   "cell_type": "code",
   "execution_count": null,
   "id": "37378963",
   "metadata": {},
   "outputs": [],
   "source": [
    "!pip install ipykernel"
   ]
  },
  {
   "cell_type": "code",
   "execution_count": null,
   "id": "7cdf5735",
   "metadata": {},
   "outputs": [],
   "source": [
    "!python -m ipykernel install --user --name=yolov4tf"
   ]
  },
  {
   "cell_type": "markdown",
   "id": "4dca9a5a",
   "metadata": {},
   "source": [
    "Then choose yolov4tf from kernels in your notebook"
   ]
  },
  {
   "cell_type": "markdown",
   "id": "9c430b5e",
   "metadata": {},
   "source": [
    "## YOLO Setup"
   ]
  },
  {
   "cell_type": "markdown",
   "id": "1ee6298f",
   "metadata": {},
   "source": [
    "#### Convert weights"
   ]
  },
  {
   "cell_type": "code",
   "execution_count": null,
   "id": "67ee01d6",
   "metadata": {
    "scrolled": true
   },
   "outputs": [],
   "source": [
    "!python save_model.py --weights ./data/yolov4.weights --output ./checkpoints/yolov4-416 --input_size 416 --model yolov4"
   ]
  },
  {
   "cell_type": "markdown",
   "id": "0db9a6a0",
   "metadata": {},
   "source": [
    "#### Demo"
   ]
  },
  {
   "cell_type": "code",
   "execution_count": null,
   "id": "f2435c11",
   "metadata": {},
   "outputs": [],
   "source": [
    "!python detect.py --weights ./checkpoints/yolov4-416 --size 416 --model yolov4 --image ./data/kite.jpg"
   ]
  },
  {
   "cell_type": "markdown",
   "id": "f5a84186",
   "metadata": {},
   "source": [
    "**If you are using a detector with other classes than yolo's, you need to do the following:**"
   ]
  },
  {
   "cell_type": "markdown",
   "id": "09731ffa",
   "metadata": {},
   "source": [
    "    1. Create a custom.names file in data/classes and type your class (based on your weights and training)\n",
    "    2. Call the custom.names in config.py (change coco.names to custom.names)\n",
    "    3. Change the paths in detect.py\n",
    "    "
   ]
  },
  {
   "cell_type": "code",
   "execution_count": null,
   "id": "60413bf7",
   "metadata": {},
   "outputs": [],
   "source": [
    "!python detect.py --weights ./checkpoints/custom --size 416 --model yolov4 --image ./data/custom.jpg"
   ]
  }
 ],
 "metadata": {
  "kernelspec": {
   "display_name": "yolov4tf",
   "language": "python",
   "name": "yolov4tf"
  },
  "language_info": {
   "codemirror_mode": {
    "name": "ipython",
    "version": 3
   },
   "file_extension": ".py",
   "mimetype": "text/x-python",
   "name": "python",
   "nbconvert_exporter": "python",
   "pygments_lexer": "ipython3",
   "version": "3.7.11"
  }
 },
 "nbformat": 4,
 "nbformat_minor": 5
}
