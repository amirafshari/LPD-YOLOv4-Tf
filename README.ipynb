{
 "cells": [
  {
   "cell_type": "markdown",
   "id": "4c8912eb",
   "metadata": {},
   "source": [
    "I prefer to do these in cmd rather than jupyter, because we can see the results."
   ]
  },
  {
   "cell_type": "code",
   "execution_count": null,
   "id": "c022c3c9",
   "metadata": {},
   "outputs": [],
   "source": [
    "!git clone https://github.com/hunglc007/tensorflow-yolov4-tflite"
   ]
  },
  {
   "cell_type": "markdown",
   "id": "e80304c0",
   "metadata": {},
   "source": [
    "### Enviroment Setup"
   ]
  },
  {
   "cell_type": "markdown",
   "id": "6e61bd5d",
   "metadata": {},
   "source": [
    "#### Conda Enviroment"
   ]
  },
  {
   "cell_type": "code",
   "execution_count": null,
   "id": "9e5e4bb7",
   "metadata": {},
   "outputs": [],
   "source": [
    "# Creat\n",
    "\n",
    "# tf < 2.5 | 3.6 < python < 3.8\n",
    "# tf > 2.5 | python > 3.9\n",
    "# opencv 4.1.1.26 | python 3.7 <\n",
    "!conda create --name envname python=3.7\n",
    "\n",
    "# Activate\n",
    "!activate envname"
   ]
  },
  {
   "cell_type": "markdown",
   "id": "0ef55936",
   "metadata": {},
   "source": [
    "#### Requirements"
   ]
  },
  {
   "cell_type": "code",
   "execution_count": null,
   "id": "8e142ea4",
   "metadata": {},
   "outputs": [],
   "source": [
    "# tf > 2.5 both cpu and gpu use the same package\n",
    "\n",
    "# GPU\n",
    "!pip install -r requirements-gpu.txt\n",
    "\n",
    "# CPU\n",
    "!pip install -r requirements.txt"
   ]
  },
  {
   "cell_type": "markdown",
   "id": "c66b4019",
   "metadata": {},
   "source": [
    "#### Check"
   ]
  },
  {
   "cell_type": "code",
   "execution_count": null,
   "id": "a5097a6d",
   "metadata": {},
   "outputs": [],
   "source": [
    "!conda list # installed packages in current env\n",
    "!python --version"
   ]
  },
  {
   "cell_type": "markdown",
   "id": "1ff9c1d0",
   "metadata": {},
   "source": [
    "#### Set the enviroment as jupyter kernel"
   ]
  },
  {
   "cell_type": "code",
   "execution_count": null,
   "id": "37378963",
   "metadata": {},
   "outputs": [],
   "source": [
    "!pip install ipykernel"
   ]
  },
  {
   "cell_type": "code",
   "execution_count": null,
   "id": "7cdf5735",
   "metadata": {},
   "outputs": [],
   "source": [
    "!python -m ipykernel install --user --name=yolov4tf"
   ]
  },
  {
   "cell_type": "markdown",
   "id": "9c430b5e",
   "metadata": {},
   "source": [
    "### Darknet Setup"
   ]
  },
  {
   "cell_type": "markdown",
   "id": "1ee6298f",
   "metadata": {},
   "source": [
    "#### Convert weights"
   ]
  },
  {
   "cell_type": "code",
   "execution_count": null,
   "id": "67ee01d6",
   "metadata": {
    "scrolled": true
   },
   "outputs": [],
   "source": [
    "!python save_model.py --weights ./data/yolov4.weights --output ./checkpoints/yolov4-416 --input_size 416 --model yolov4"
   ]
  },
  {
   "cell_type": "markdown",
   "id": "e071cee5",
   "metadata": {},
   "source": [
    "#### Demo"
   ]
  },
  {
   "cell_type": "code",
   "execution_count": null,
   "id": "7bc79a53",
   "metadata": {},
   "outputs": [],
   "source": [
    "!python detect.py --weights ./checkpoints/yolov4-416 --size 416 --model yolov4 --image ./data/kite.jpg"
   ]
  }
 ],
 "metadata": {
  "kernelspec": {
   "display_name": "yolov4tf",
   "language": "python",
   "name": "yolov4tf"
  },
  "language_info": {
   "codemirror_mode": {
    "name": "ipython",
    "version": 3
   },
   "file_extension": ".py",
   "mimetype": "text/x-python",
   "name": "python",
   "nbconvert_exporter": "python",
   "pygments_lexer": "ipython3",
   "version": "3.7.11"
  }
 },
 "nbformat": 4,
 "nbformat_minor": 5
}
